{
 "cells": [
  {
   "cell_type": "code",
   "execution_count": 2,
   "metadata": {},
   "outputs": [
    {
     "name": "stdout",
     "output_type": "stream",
     "text": [
      "22/12/02 16:04:36 WARN Utils: Your hostname, users-MacBook-Pro.local resolves to a loopback address: 127.0.0.1; using 192.168.0.203 instead (on interface en0)\n",
      "22/12/02 16:04:36 WARN Utils: Set SPARK_LOCAL_IP if you need to bind to another address\n"
     ]
    },
    {
     "name": "stderr",
     "output_type": "stream",
     "text": [
      "Setting default log level to \"WARN\".\n",
      "To adjust logging level use sc.setLogLevel(newLevel). For SparkR, use setLogLevel(newLevel).\n"
     ]
    },
    {
     "name": "stdout",
     "output_type": "stream",
     "text": [
      "22/12/02 16:04:36 WARN NativeCodeLoader: Unable to load native-hadoop library for your platform... using builtin-java classes where applicable\n"
     ]
    }
   ],
   "source": [
    "import pyspark as spark\n",
    "from pyspark.sql import SparkSession\n",
    "\n",
    "spark = SparkSession.builder\\\n",
    "    .appName(\"Python Spark SQL basic example\")\\\n",
    "    .config(\"spark.some.config.option\", \"some-value\")\\\n",
    "    .getOrCreate()"
   ]
  },
  {
   "cell_type": "code",
   "execution_count": 10,
   "metadata": {},
   "outputs": [
    {
     "name": "stdout",
     "output_type": "stream",
     "text": [
      "root\n",
      " |-- _c0: string (nullable = true)\n",
      " |-- _c1: string (nullable = true)\n",
      " |-- _c2: string (nullable = true)\n",
      " |-- _c3: string (nullable = true)\n",
      " |-- _c4: string (nullable = true)\n",
      " |-- _c5: string (nullable = true)\n",
      " |-- _c6: string (nullable = true)\n",
      " |-- _c7: string (nullable = true)\n",
      " |-- _c8: string (nullable = true)\n",
      "\n"
     ]
    }
   ],
   "source": [
    "df = spark.read.csv(\"../data/annotation-1/annotation_database.csv\")\n",
    "df.printSchema()"
   ]
  },
  {
   "cell_type": "code",
   "execution_count": 6,
   "metadata": {},
   "outputs": [
    {
     "name": "stdout",
     "output_type": "stream",
     "text": [
      "root\n",
      " |-- filename: string (nullable = true)\n",
      " |-- lead: string (nullable = true)\n",
      " |-- vertical_annotation: string (nullable = true)\n",
      " |-- x1: double (nullable = true)\n",
      " |-- x2: double (nullable = true)\n",
      " |-- feature: string (nullable = true)\n",
      " |-- description: string (nullable = true)\n",
      " |-- diagnosis: string (nullable = true)\n",
      " |-- conclusion: string (nullable = true)\n",
      "\n"
     ]
    }
   ],
   "source": [
    "df2 = spark.read.options(header='True', inferSchema='True').csv(\"../data/annotation-1/annotation_database.csv\")\n",
    "df2.printSchema()"
   ]
  },
  {
   "cell_type": "code",
   "execution_count": 7,
   "metadata": {},
   "outputs": [
    {
     "name": "stdout",
     "output_type": "stream",
     "text": [
      "+--------------------+--------------------+--------------------+------------------+------------------+------------+--------------------+--------------------+----------+\n",
      "|            filename|                lead| vertical_annotation|                x1|                x2|     feature|         description|           diagnosis|conclusion|\n",
      "+--------------------+--------------------+--------------------+------------------+------------------+------------+--------------------+--------------------+----------+\n",
      "|            00413_lr|                  II|                  II|1.7922230769230767|2.0645999999999995| PR Interval|       prolonged PR |First Degree AV B...|      null|\n",
      "|            00414_lr|                  V1|               V1 V5|0.6651461538461536|0.9375230769230767|      S Wave|     Sv1 + R v5 < 35|    Normal Diagnosis|      null|\n",
      "|            00418_lr|                  V1|                  V1|0.8717769230769227|1.1347615384615382|      Q Wave|       Q wave in v1 |Anterior Myocardi...|      null|\n",
      "|            00423_lr|                  V5|               V1 V5| 0.777853846153846|1.0126615384615383|      S Wave|    S V1 + R V5 < 35|    Normal Diagnosis|      null|\n",
      "|            00425_lr|                  II|                  II| 7.239761538461536| 7.728161538461537|      T Wave|discordant ST and...|Premature Ventric...|      null|\n",
      "|            00428_lr|                  II|                  II| 2.139738461538461| 2.355761538461538|      P Wave|   fibrillate waves |                null|      null|\n",
      "|     irregular R-R \"| Atrial Fibrillation|                null|              null|              null|        null|                null|                null|      null|\n",
      "|            00449_lr|                  II|               II V1|0.6369692307692305|0.9938769230769229|      P Wave|       flutter waves|      Atrial Flutter|      null|\n",
      "|            00449_lr|                  II|                null|0.6369692307692305|0.9938769230769229|      P Wave|      fluuter waves |                null|      null|\n",
      "| regular R-R waves \"|      Atrial Flutter|                null|              null|              null|        null|                null|                null|      null|\n",
      "|            00452_lr|                   I|I II III AVR AVL ...|3.0695769230769225| 3.557976923076922|      T Wave|           wide QRS |                null|      null|\n",
      "|discordant ST and...|Premature Ventric...|                null|              null|              null|        null|                null|                null|      null|\n",
      "|            00452_lr|                  II|               II V1|0.8623846153846152|1.2850384615384614|      P Wave|     abscent p wave |                null|      null|\n",
      "|     irregular R-R \"| Atrial Fibrillation|                null|              null|              null|        null|                null|                null|      null|\n",
      "|            00453_lr|                  II|          II III AVF| 0.590007692307692|0.9093461538461536|  ST Segment|       ST elevation |Inferior Myocardi...|      null|\n",
      "|            00461_lr|                  II|                  II| 0.899953846153846| 1.360176923076923|QRS Interval|       slurred wave |                null|      null|\n",
      "|         narrow QRS |                null|                null|              null|              null|        null|                null|                null|      null|\n",
      "|discordant ST and...|Wolf-parkinson-wh...|                null|              null|              null|        null|                null|                null|      null|\n",
      "|            00477_lr|                  II|          II III AVF| 0.590007692307692|0.9844846153846152|      Q Wave|  Q wave II,III, avF|Inferior Myocardi...|      null|\n",
      "|            00477_lr|                   I|                   I|0.7402846153846152| 2.637530769230769|        Rate|        Regular R-R |   Sinus Bradycardia|      null|\n",
      "+--------------------+--------------------+--------------------+------------------+------------------+------------+--------------------+--------------------+----------+\n",
      "only showing top 20 rows\n",
      "\n"
     ]
    }
   ],
   "source": [
    "# df = spark.read.format(\"csv\").load(\"../data/annotation-1/annotation_database.csv\")\n",
    "df2.show()"
   ]
  },
  {
   "cell_type": "code",
   "execution_count": null,
   "metadata": {},
   "outputs": [],
   "source": [
    "df2.write.option(\"header\",True).csv(\"../data/annotation/annotation_database\")"
   ]
  }
 ],
 "metadata": {
  "kernelspec": {
   "display_name": "Python 3.9.7 ('env': venv)",
   "language": "python",
   "name": "python3"
  },
  "language_info": {
   "codemirror_mode": {
    "name": "ipython",
    "version": 3
   },
   "file_extension": ".py",
   "mimetype": "text/x-python",
   "name": "python",
   "nbconvert_exporter": "python",
   "pygments_lexer": "ipython3",
   "version": "3.9.7"
  },
  "orig_nbformat": 4,
  "vscode": {
   "interpreter": {
    "hash": "c3105632f7c960155c71857e43355397444b1be6a8f9c1708620063957c4333b"
   }
  }
 },
 "nbformat": 4,
 "nbformat_minor": 2
}
